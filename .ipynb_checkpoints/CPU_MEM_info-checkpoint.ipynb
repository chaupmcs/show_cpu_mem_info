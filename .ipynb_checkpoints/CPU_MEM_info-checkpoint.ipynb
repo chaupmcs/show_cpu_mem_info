{
 "cells": [
  {
   "cell_type": "code",
   "execution_count": 1,
   "metadata": {},
   "outputs": [],
   "source": [
    "from __future__ import print_function\n",
    "from datetime import datetime\n",
    "import psutil\n",
    "import datetime\n",
    "import numpy as np\n",
    "import warnings\n",
    "warnings.filterwarnings('ignore')\n",
    "import glob\n",
    "import pandas as pd\n",
    "import os\n",
    "import multiprocessing as mp\n",
    "import json\n",
    "import os.path\n",
    "import re\n",
    "import pandas.core.algorithms as algos\n",
    "from pandas import Series\n",
    "import scipy.stats.stats as stats\n",
    "import matplotlib.pyplot as plt\n",
    "import seaborn as sns\n",
    "import collections\n",
    "import sys\n",
    "import subprocess\n",
    "def partition(arr,low,high): \n",
    "    i = ( low-1 )         # index of smaller element \n",
    "    pivot = arr[high]     # pivot \n",
    "  \n",
    "    for j in range(low , high): \n",
    "  \n",
    "        # If current element is smaller than or \n",
    "        # equal to pivot \n",
    "        if   arr[j] <= pivot: \n",
    "          \n",
    "            # increment index of smaller element \n",
    "            i = i+1 \n",
    "            arr[i],arr[j] = arr[j],arr[i] \n",
    "  \n",
    "    arr[i+1],arr[high] = arr[high],arr[i+1] \n",
    "    return ( i+1 ) \n",
    "  \n",
    "# The main function that implements QuickSort \n",
    "# arr[] --> Array to be sorted, \n",
    "# low  --> Starting index, \n",
    "# high  --> Ending index \n",
    "  \n",
    "# Function to do Quick sort \n",
    "def quickSort(arr,low,high): \n",
    "    if low < high: \n",
    "  \n",
    "        # pi is partitioning index, arr[p] is now \n",
    "        # at right place \n",
    "        pi = partition(arr,low,high) \n",
    "  \n",
    "        # Separately sort elements before \n",
    "        # partition and after partition \n",
    "        quickSort(arr, low, pi-1) \n",
    "        quickSort(arr, pi+1, high) \n",
    "        \n",
    "\n",
    "\n",
    "def run_the_code():\n",
    "    arr = [10, 7, 8, 9, 1, 5] \n",
    "    n = len(arr) \n",
    "    quickSort(arr,0,n-1)\n",
    "#     Fibonacci(25)\n"
   ]
  },
  {
   "cell_type": "markdown",
   "metadata": {},
   "source": [
    "# Systems Info"
   ]
  },
  {
   "cell_type": "code",
   "execution_count": 2,
   "metadata": {},
   "outputs": [
    {
     "data": {
      "text/plain": [
       "4"
      ]
     },
     "execution_count": 2,
     "metadata": {},
     "output_type": "execute_result"
    }
   ],
   "source": [
    "##  #logical cores= #physical cores * #threads of each core (Hyper thread)\n",
    "psutil.cpu_count(logical=True)"
   ]
  },
  {
   "cell_type": "code",
   "execution_count": 3,
   "metadata": {},
   "outputs": [
    {
     "data": {
      "text/plain": [
       "2"
      ]
     },
     "execution_count": 3,
     "metadata": {},
     "output_type": "execute_result"
    }
   ],
   "source": [
    "psutil.cpu_count(logical=False) #return the number of physical cores only"
   ]
  },
  {
   "cell_type": "code",
   "execution_count": 4,
   "metadata": {},
   "outputs": [
    {
     "data": {
      "text/plain": [
       "[sdiskpart(device='/dev/disk1s6', mountpoint='/', fstype='apfs', opts='ro,local,rootfs,dovolfs,journaled,multilabel'),\n",
       " sdiskpart(device='/dev/disk1s5', mountpoint='/System/Volumes/Data', fstype='apfs', opts='rw,local,dovolfs,dontbrowse,journaled,multilabel'),\n",
       " sdiskpart(device='/dev/disk1s4', mountpoint='/private/var/vm', fstype='apfs', opts='rw,local,dovolfs,dontbrowse,journaled,multilabel'),\n",
       " sdiskpart(device='/dev/disk1s1', mountpoint='/Volumes/Macintosh HD - Data', fstype='apfs', opts='rw,local,dovolfs,journaled,multilabel')]"
      ]
     },
     "execution_count": 4,
     "metadata": {},
     "output_type": "execute_result"
    }
   ],
   "source": [
    "psutil.disk_partitions()"
   ]
  },
  {
   "cell_type": "code",
   "execution_count": 5,
   "metadata": {},
   "outputs": [
    {
     "data": {
      "text/plain": [
       "[12.0, 4.0, 7.9, 6.9]"
      ]
     },
     "execution_count": 5,
     "metadata": {},
     "output_type": "execute_result"
    }
   ],
   "source": [
    "psutil.cpu_percent(interval=1, percpu=True)"
   ]
  },
  {
   "cell_type": "code",
   "execution_count": 6,
   "metadata": {},
   "outputs": [
    {
     "data": {
      "text/plain": [
       "scputimes(user=64798.7, nice=0.0, system=28458.3, idle=523989.82)"
      ]
     },
     "execution_count": 6,
     "metadata": {},
     "output_type": "execute_result"
    }
   ],
   "source": [
    "psutil.cpu_times()"
   ]
  },
  {
   "cell_type": "code",
   "execution_count": 7,
   "metadata": {},
   "outputs": [
    {
     "data": {
      "text/plain": [
       "svmem(total=8589934592, available=3181920256, percent=63.0, used=4592021504, free=472018944, active=2711601152, inactive=1890676736, wired=1880420352)"
      ]
     },
     "execution_count": 7,
     "metadata": {},
     "output_type": "execute_result"
    }
   ],
   "source": [
    "psutil.virtual_memory()"
   ]
  },
  {
   "cell_type": "code",
   "execution_count": 8,
   "metadata": {
    "scrolled": false
   },
   "outputs": [
    {
     "name": "stdout",
     "output_type": "stream",
     "text": [
      "0 kernel_task\n",
      "`_ 1 launchd\n",
      "  |- 88 syslogd\n",
      "  |- 89 UserEventAgent\n",
      "  |- 92 uninstalld\n",
      "  |- 93 kextd\n",
      "  |- 94 fseventsd\n",
      "  |- 95 mediaremoted\n",
      "  |- 98 systemstats\n",
      "  | `_ 270 systemstats\n",
      "  |- 99 configd\n",
      "  |- 100 endpointsecurity\n",
      "  |- 101 powerd\n",
      "  |- 105 logd\n",
      "  |- 106 keybagd\n",
      "  |- 109 watchdogd\n",
      "  |- 113 mds\n",
      "  |- 114 iconservicesd\n",
      "  |- 115 diskarbitrationd\n",
      "  |- 118 coreduetd\n",
      "  |- 121 opendirectoryd\n",
      "  |- 122 apsd\n",
      "  |- 123 launchservicesd\n",
      "  |- 124 timed\n",
      "  |- 125 usbmuxd\n",
      "  |- 126 securityd\n",
      "  |- 127 auditd\n",
      "  |- 132 autofsd\n",
      "  |- 133 displaypolicyd\n",
      "  |- 134 dasd\n",
      "  |- 138 logind\n",
      "  |- 139 revisiond\n",
      "  |- 140 KernelEventAgent\n",
      "  |- 142 bluetoothd\n",
      "  |- 143 hidd\n",
      "  |- 145 corebrightnessd\n",
      "  |- 146 AirPlayXPCHelper\n",
      "  |- 147 notifyd\n",
      "  |- 148 distnoted\n",
      "  |- 149 coreservicesd\n",
      "  |- 150 syspolicyd\n",
      "  |- 151 cfprefsd\n",
      "  |- 152 aslmanager\n",
      "  |- 153 airportd\n",
      "  |- 155 loginwindow\n",
      "  |- 157 tccd\n",
      "  |- 168 coreaudiod\n",
      "  |- 179 authd\n",
      "  |- 182 com.apple.audio.\n",
      "  |- 189 trustd\n",
      "  |- 190 contextstored\n",
      "  |- 194 mobileassetd\n",
      "  |- 196 analyticsd\n",
      "  |- 207 nehelper\n",
      "  |- 219 searchpartyd\n",
      "  |- 221 WindowServer\n",
      "  |- 225 mDNSResponder\n",
      "  |- 229 backupd-helper\n",
      "  |- 231 awdd\n",
      "  |- 232 com.apple.geod\n",
      "  |- 233 mDNSResponderHel\n",
      "  |- 234 nsurlsessiond\n",
      "  |- 235 symptomsd\n",
      "  |- 236 secinitd\n",
      "  |- 237 cfprefsd\n",
      "  |- 239 trustd\n",
      "  |- 240 diskmanagementd\n",
      "  |- 241 lsd\n",
      "  |- 247 smd\n",
      "  |- 248 runningboardd\n",
      "  |- 249 AudioComponentRe\n",
      "  |- 254 com.apple.audio.\n",
      "  |- 255 com.apple.CodeSi\n",
      "  |- 257 mds_stores\n",
      "  |- 259 secinitd\n",
      "  |- 260 locationd\n",
      "  |- 261 CVMServer\n",
      "  |- 262 colorsync.displa\n",
      "  |- 263 colorsyncd\n",
      "  |- 264 apfsd\n",
      "  |- 265 usbd\n",
      "  |- 266 thermald\n",
      "  |- 268 rtcreportingd\n",
      "  |- 269 sysmond\n",
      "  |- 271 com.apple.cmio.r\n",
      "  |- 272 AppleCameraAssis\n",
      "  |- 273 appleeventsd\n",
      "  |- 274 bootinstalld\n",
      "  |- 275 ViewBridgeAuxili\n",
      "  |- 277 distnoted\n",
      "  |- 281 com.apple.Accoun\n",
      "  |- 285 GSSCred\n",
      "  |- 286 captiveagent\n",
      "  |- 289 coreauthd\n",
      "  |- 290 coreauthd\n",
      "  |- 291 cfprefsd\n",
      "  |- 292 distnoted\n",
      "  |- 293 securityd_servic\n",
      "  |- 294 spindump\n",
      "  |- 295 SubmitDiagInfo\n",
      "  |- 296 UserEventAgent\n",
      "  |- 298 distnoted\n",
      "  |- 300 lsd\n",
      "  |- 301 trustd\n",
      "  |- 302 knowledge-agent\n",
      "  |- 303 com.apple.sbd\n",
      "  |- 305 secd\n",
      "  |- 306 amfid\n",
      "  |- 307 backgroundtaskmanagementagent\n",
      "  |- 309 cloudd\n",
      "  |- 310 CloudKeychainProxy\n",
      "  |- 312 sharedfilelistd\n",
      "  |- 313 rapportd\n",
      "  |- 314 tccd\n",
      "  |- 315 nsurlsessiond\n",
      "  |- 316 accountsd\n",
      "  |- 318 Notion\n",
      "  | |- 2574 Notion Helper (GPU)\n",
      "  | |- 23621 Notion Helper (Renderer)\n",
      "  | |- 23623 Notion Helper (Renderer)\n",
      "  | `_ 23625 Notion Helper (Renderer)\n",
      "  |- 320 talagent\n",
      "  |- 321 Dock\n",
      "  |- 322 SystemUIServer\n",
      "  |- 323 Finder\n",
      "  |- 326 identityservicesd\n",
      "  |- 327 pboard\n",
      "  |- 328 systemsoundserve\n",
      "  |- 329 QuickLookUIService\n",
      "  |- 330 pkd\n",
      "  |- 331 secinitd\n",
      "  |- 332 dmd\n",
      "  |- 333 ViewBridgeAuxiliary\n",
      "  |- 336 AMPDeviceDiscoveryAgent\n",
      "  |- 337 CategoriesService\n",
      "  |- 341 TrustedPeersHelper\n",
      "  |- 342 Spotlight\n",
      "  |- 343 fontd\n",
      "  |- 345 routined\n",
      "  |- 346 ctkd\n",
      "  |- 347 usernoted\n",
      "  |- 348 ContextService\n",
      "  |- 349 CommCenter\n",
      "  |- 350 networkserviceproxy\n",
      "  |- 351 ctkd\n",
      "  |- 353 lockoutagent\n",
      "  |- 354 ScreenTimeAgent\n",
      "  |- 355 CategoriesService\n",
      "  |- 356 bird\n",
      "  |- 357 cdpd\n",
      "  |- 358 APFSUserAgent\n",
      "  |- 359 parsecd\n",
      "  |- 360 ContextStoreAgent\n",
      "  |- 361 mapspushd\n",
      "  |- 362 nsurlstoraged\n",
      "  |- 363 WiFiAgent\n",
      "  |- 364 CalendarAgent\n",
      "  |- 365 NotificationCenter\n",
      "  |- 366 akd\n",
      "  |- 369 CalNCService\n",
      "  |- 370 filecoordination\n",
      "  |- 371 iconservicesagent\n",
      "  |- 372 commerce\n",
      "  |- 373 com.apple.geod\n",
      "  |- 374 useractivityd\n",
      "  |- 375 com.apple.dock.extra\n",
      "  |- 376 ContactsAccountsService\n",
      "  |- 377 sharingd\n",
      "  |- 378 storeaccountd\n",
      "  |- 379 CategoriesService\n",
      "  |- 380 pbs\n",
      "  |- 381 WirelessRadioMan\n",
      "  |- 382 callservicesd\n",
      "  |- 383 IMRemoteURLConnectionAgent\n",
      "  |- 384 IMRemoteURLConnectionAgent\n",
      "  |- 385 imagent\n",
      "  |- 386 AppSSOAgent\n",
      "  |- 388 spindump_agent\n",
      "  |- 389 CallHistoryPluginHelper\n",
      "  |- 390 IMDPersistenceAgent\n",
      "  |- 392 CategoriesService\n",
      "  |- 393 ScopedBookmarkAgent\n",
      "  |- 394 icdd\n",
      "  |- 395 WiFiVelocityAgent\n",
      "  |- 396 wifivelocityd\n",
      "  |- 397 mdwrite\n",
      "  |- 400 IMRemoteURLConnectionAgent\n",
      "  |- 401 com.apple.Ambien\n",
      "  |- 403 CoreLocationAgent\n",
      "  |- 404 fmfd\n",
      "  |- 405 IMRemoteURLConnectionAgent\n",
      "  |- 414 mediaremoteagent\n",
      "  |- 420 neagent\n",
      "  |- 430 adid\n",
      "  |- 461 taskgated\n",
      "  |- 463 findmydeviced\n",
      "  |- 475 familycircled\n",
      "  |- 480 followupd\n",
      "  |- 481 com.apple.hiservices-xpcservice\n",
      "  |- 482 AssetCacheLocatorService\n",
      "  |- 483 CMFSyncAgent\n",
      "  |- 484 imklaunchagent\n",
      "  |- 485 AssetCache\n",
      "  |- 486 PAH_Extension\n",
      "  |- 487 SafeEjectGPUAgent\n",
      "  |- 488 SafeEjectGPUService\n",
      "  |- 519 corespotlightd\n",
      "  |- 552 ContainerMetadataExtractor\n",
      "  |- 611 deleted\n",
      "  |- 642 corespeechd\n",
      "  |- 648 SocialPushAgent\n",
      "  |- 654 askpermissiond\n",
      "  |- 657 AirPlayUIAgent\n",
      "  |- 659 cloudpaird\n",
      "  |- 660 diagnostics_agent\n",
      "  |- 662 TextInputMenuAgent\n",
      "  |- 663 amsaccountsd\n",
      "  |- 666 ctkahp\n",
      "  |- 674 Android File Transfer Agent\n",
      "  |- 694 ctkahp\n",
      "  |- 779 TextInputSwitcher\n",
      "  |- 787 suggestd\n",
      "  |- 788 nsurlstoraged\n",
      "  |- 791 adprivacyd\n",
      "  |- 797 CrashReporterSup\n",
      "  |- 799 gamecontrollerd\n",
      "  |- 834 swcd\n",
      "  |- 847 SoftwareUpdateNotificationManager\n",
      "  |- 848 softwareupdated\n",
      "  |- 849 suhelperd\n",
      "  |- 877 XprotectService\n",
      "  |- 1039 AudioComponentRegistrar\n",
      "  |- 1142 assistantd\n",
      "  |- 1143 fontd\n",
      "  |- 1146 trustd\n",
      "  |- 2511 DiskUnmountWatcher\n",
      "  |- 2543 com.apple.speech.speechsynthesisd\n",
      "  |- 2557 SafariBookmarksSyncAgent\n",
      "  |- 2568 appstoreagent\n",
      "  |- 2573 crashpad_handler\n",
      "  |- 2575 VTDecoderXPCService\n",
      "  |- 2581 AppleSpell\n",
      "  |- 2582 keyboardservicesd\n",
      "  |- 2589 OSDUIHelper\n",
      "  |- 2604 MTLCompilerServi\n",
      "  |- 2609 com.apple.quicklook.ThumbnailsAgent\n",
      "  |- 2622 colorsync.useragent\n",
      "  |- 2798 fileproviderd\n",
      "  |- 2799 CategoriesService\n",
      "  |- 2800 com.apple.DictionaryServiceHelper\n",
      "  |- 3003 com.apple.Perfor\n",
      "  |- 3086 QuickLookSatellite\n",
      "  |- 4375 PowerChime\n",
      "  |- 4378 transparencyd\n",
      "  |- 4379 EscrowSecurityAlert\n",
      "  |- 4381 photolibraryd\n",
      "  |- 4385 cloudphotod\n",
      "  |- 4478 coresymbolicatio\n",
      "  |- 4479 replayd\n",
      "  |- 4480 sysdiagnose\n",
      "  |- 4530 devicecheckd\n",
      "  |- 4681 mobileactivation\n",
      "  |- 4682 tzd\n",
      "  |- 4866 lskdd\n",
      "  |- 5001 IMAutomaticHistoryDeletionAgent\n",
      "  |- 5071 MTLCompilerService\n",
      "  |- 5204 deleted_helper\n",
      "  |- 5206 system_installd\n",
      "  |- 5207 installd\n",
      "  |- 5208 storedownloadd\n",
      "  |- 5220 com.apple.SafariServices\n",
      "  |- 5221 storagekitd\n",
      "  |- 5222 iconservicesagen\n",
      "  |- 5540 VIM_Extension\n",
      "  |- 6170 Java Updater\n",
      "  |- 6738 UsageTrackingAgent\n",
      "  |- 6739 CategoriesService\n",
      "  |- 6740 dprivacyd\n",
      "  |- 6741 nbagent\n",
      "  |- 6742 nbstated\n",
      "  |- 6745 periodic-wrapper\n",
      "  |- 6746 microstackshot\n",
      "  |- 6828 silhouette\n",
      "  |- 6830 media-indexer\n",
      "  |- 6831 AMPLibraryAgent\n",
      "  |- 6832 PodcastContentService\n",
      "  |- 6833 fpsd\n",
      "  |- 6834 com.apple.BKAgentService\n",
      "  |- 6835 AMPArtworkAgent\n",
      "  |- 6875 periodic-wrapper\n",
      "  |- 6891 DataDetectorsSou\n",
      "  |- 6893 periodic-wrapper\n",
      "  |- 7076 Google Chrome\n",
      "  | |- 7082 Google Chrome Helper (GPU)\n",
      "  | |- 7084 Google Chrome Helper\n",
      "  | |- 7093 Google Chrome Helper (Renderer)\n",
      "  | |- 7094 Google Chrome Helper (Renderer)\n",
      "  | |- 7096 Google Chrome Helper (Renderer)\n",
      "  | |- 7098 Google Chrome Helper (Renderer)\n",
      "  | |- 7115 Google Chrome Helper\n",
      "  | |- 15509 Google Chrome Helper (Renderer)\n",
      "  | |- 23266 Google Chrome Helper (Renderer)\n",
      "  | |- 23269 Google Chrome Helper (Renderer)\n",
      "  | |- 24075 Google Chrome Helper (Renderer)\n",
      "  | |- 24305 Google Chrome Helper (Renderer)\n",
      "  | |- 24537 Google Chrome Helper (Renderer)\n",
      "  | `_ 24538 Google Chrome Helper (Renderer)\n",
      "  |- 7080 chrome_crashpad_handler\n",
      "  |- 7086 AlertNotificationService\n",
      "  |- 7087 VTDecoderXPCService\n",
      "  |- 7116 com.apple.audio.SandboxHelper\n",
      "  |- 7130 MTLCompilerService\n",
      "  |- 7131 MTLCompilerService\n",
      "  |- 7575 atsd\n",
      "  |- 7681 applessdstatisti\n",
      "  |- 8147 MTLCompilerServi\n",
      "  |- 8505 MTLCompilerService\n",
      "  |- 9201 com.apple.appkit.xpc.openAndSavePanelService\n",
      "  |- 9202 QuickLookUIService\n",
      "  |- 9205 MTLCompilerService\n",
      "  |- 9212 storeuid\n",
      "  |- 9238 CategoriesService\n",
      "  |- 9251 com.apple.appkit.xpc.openAndSavePanelService\n",
      "  |- 9252 QuickLookUIService\n",
      "  |- 9877 aslmanager\n",
      "  |- 10830 Preview\n",
      "  |- 11195 MTLCompilerService\n",
      "  |- 14460 ReportCrash\n",
      "  |- 15321 MTLCompilerService\n",
      "  |- 15342 CAReportingServi\n",
      "  |- 15416 MTLCompilerService\n",
      "  |- 15419 printtool\n",
      "  |- 15421 com.apple.appkit.xpc.openAndSavePanelService\n",
      "  |- 15422 QuickLookUIService\n",
      "  |- 15425 MTLCompilerService\n",
      "  |- 15707 com.apple.accessibility.mediaaccessibilityd\n",
      "  |- 15980 photoanalysisd\n",
      "  |- 16829 sysextd\n",
      "  |- 17015 ReportCrash\n",
      "  |- 17318 ArchiveService\n",
      "  |- 20831 webstorm\n",
      "  | `_ 20919 fsnotifier\n",
      "  |- 21619 PerfPowerService\n",
      "  |- 21673 iTerm2\n",
      "  | |- 21675 iTerm2\n",
      "  | | `_ 21676 login\n",
      "  | |   `_ 21677 zsh\n",
      "  | |     `_ 24070 python3.7\n",
      "  | |       `_ 24554 python3.7\n",
      "  | |- 24129 iTerm2\n",
      "  | | `_ 24130 login\n",
      "  | |   `_ 24131 zsh\n",
      "  | |     `_ 24281 htop\n",
      "  | `_ 24323 iTerm2\n",
      "  |   `_ 24324 login\n",
      "  |     `_ 24325 zsh\n",
      "  |- 22402 com.apple.Stream\n",
      "  |- 22421 ProtectedCloudKeySyncing\n",
      "  |- 23242 com.apple.audio.SandboxHelper\n",
      "  |- 23244 CoreServicesUIAgent\n",
      "  |- 23245 XprotectService\n",
      "  |- 23858 netbiosd\n",
      "  |- 23875 remindd\n",
      "  |- 23876 sandboxd\n",
      "  |- 24296 ocspd\n",
      "  |- 24545 mdworker_shared\n",
      "  |- 24548 mdworker_shared\n",
      "  |- 24549 mdworker_shared\n",
      "  |- 24550 mdworker_shared\n",
      "  |- 24552 mdworker_shared\n",
      "  `_ 24553 backupd\n"
     ]
    }
   ],
   "source": [
    "def print_tree(parent, tree, indent=''):\n",
    "    try:\n",
    "        name = psutil.Process(parent).name()\n",
    "    except psutil.Error:\n",
    "        name = \"?\"\n",
    "    print(parent, name)\n",
    "    if parent not in tree:\n",
    "        return\n",
    "    children = tree[parent][:-1]\n",
    "    for child in children:\n",
    "        sys.stdout.write(indent + \"|- \")\n",
    "        print_tree(child, tree, indent + \"| \")\n",
    "    child = tree[parent][-1]\n",
    "    sys.stdout.write(indent + \"`_ \")\n",
    "    print_tree(child, tree, indent + \"  \")\n",
    "\n",
    "tree = collections.defaultdict(list)\n",
    "for p in psutil.process_iter():\n",
    "    try:\n",
    "        tree[p.ppid()].append(p.pid)\n",
    "    except (psutil.NoSuchProcess, psutil.ZombieProcess):\n",
    "        pass\n",
    "# on systems supporting PID 0, PID 0's parent is usually 0\n",
    "if 0 in tree and 0 in tree[0]:\n",
    "    tree[0].remove(0)\n",
    "print_tree(min(tree), tree)"
   ]
  },
  {
   "cell_type": "markdown",
   "metadata": {},
   "source": [
    "# Specific Process"
   ]
  },
  {
   "cell_type": "code",
   "execution_count": 3,
   "metadata": {},
   "outputs": [
    {
     "name": "stdout",
     "output_type": "stream",
     "text": [
      "24561\n"
     ]
    }
   ],
   "source": [
    "pid = os.getpid()\n",
    "print(pid)"
   ]
  },
  {
   "cell_type": "code",
   "execution_count": 4,
   "metadata": {},
   "outputs": [],
   "source": [
    "py = psutil.Process(pid)"
   ]
  },
  {
   "cell_type": "code",
   "execution_count": 8,
   "metadata": {},
   "outputs": [
    {
     "data": {
      "text/plain": [
       "pfullmem(rss=118321152, vms=4739248128, pfaults=39127, pageins=0, uss=100560896)"
      ]
     },
     "execution_count": 8,
     "metadata": {},
     "output_type": "execute_result"
    }
   ],
   "source": [
    "py.memory_full_info()"
   ]
  },
  {
   "cell_type": "code",
   "execution_count": 12,
   "metadata": {},
   "outputs": [
    {
     "name": "stdout",
     "output_type": "stream",
     "text": [
      "memory use: 0.11035537719726562 GB\n"
     ]
    }
   ],
   "source": [
    "memoryUse = py.memory_info()[0]/2.**30 \n",
    "print('memory use:', memoryUse, \"GB\")"
   ]
  },
  {
   "cell_type": "code",
   "execution_count": 5,
   "metadata": {},
   "outputs": [
    {
     "name": "stdout",
     "output_type": "stream",
     "text": [
      "memory (vms): 4.413768768310547 GB\n"
     ]
    }
   ],
   "source": [
    "memoryUse = py.memory_info()[1]/2.**30 \n",
    "print('memory (vms):', memoryUse, \"GB\")"
   ]
  },
  {
   "cell_type": "code",
   "execution_count": 14,
   "metadata": {},
   "outputs": [
    {
     "data": {
      "text/plain": [
       "1.379537582397461"
      ]
     },
     "execution_count": 14,
     "metadata": {},
     "output_type": "execute_result"
    }
   ],
   "source": [
    "py.memory_percent() #Compare process memory to total physical system memory"
   ]
  },
  {
   "cell_type": "code",
   "execution_count": 15,
   "metadata": {},
   "outputs": [
    {
     "data": {
      "text/plain": [
       "True"
      ]
     },
     "execution_count": 15,
     "metadata": {},
     "output_type": "execute_result"
    }
   ],
   "source": [
    "py.is_running()"
   ]
  },
  {
   "cell_type": "code",
   "execution_count": 16,
   "metadata": {},
   "outputs": [
    {
     "data": {
      "text/plain": [
       "0.0"
      ]
     },
     "execution_count": 16,
     "metadata": {},
     "output_type": "execute_result"
    }
   ],
   "source": [
    "py.cpu_percent()"
   ]
  },
  {
   "cell_type": "code",
   "execution_count": 17,
   "metadata": {},
   "outputs": [
    {
     "data": {
      "text/plain": [
       "[]"
      ]
     },
     "execution_count": 17,
     "metadata": {},
     "output_type": "execute_result"
    }
   ],
   "source": [
    "py.children()"
   ]
  },
  {
   "cell_type": "code",
   "execution_count": 18,
   "metadata": {},
   "outputs": [
    {
     "data": {
      "text/plain": [
       "'running'"
      ]
     },
     "execution_count": 18,
     "metadata": {},
     "output_type": "execute_result"
    }
   ],
   "source": [
    "py.status()"
   ]
  },
  {
   "cell_type": "code",
   "execution_count": 19,
   "metadata": {},
   "outputs": [
    {
     "data": {
      "text/plain": [
       "psutil.Process(pid=24070, name='python3.7', started='08:08:38')"
      ]
     },
     "execution_count": 19,
     "metadata": {},
     "output_type": "execute_result"
    }
   ],
   "source": [
    "py.parent()"
   ]
  },
  {
   "cell_type": "code",
   "execution_count": 20,
   "metadata": {},
   "outputs": [
    {
     "data": {
      "text/plain": [
       "12"
      ]
     },
     "execution_count": 20,
     "metadata": {},
     "output_type": "execute_result"
    }
   ],
   "source": [
    "py.num_threads()"
   ]
  },
  {
   "cell_type": "code",
   "execution_count": 21,
   "metadata": {},
   "outputs": [],
   "source": [
    "## print temp\n",
    "# x = subprocess.run(['osx-cpu-temp'], stdout=subprocess.PIPE)\n",
    "\n",
    "# encoding = 'utf-8'\n",
    "\n",
    "# print(str.strip(x.stdout.decode(encoding)))"
   ]
  },
  {
   "cell_type": "code",
   "execution_count": 22,
   "metadata": {},
   "outputs": [
    {
     "data": {
      "text/plain": [
       "{'terminal': None,\n",
       " 'num_threads': 12,\n",
       " 'open_files': [popenfile(path='/Users/chau/.ipython/profile_default/history.sqlite', fd=48),\n",
       "  popenfile(path='/Users/chau/.ipython/profile_default/history.sqlite', fd=49)],\n",
       " 'ppid': 24070,\n",
       " 'gids': puids(real=20, effective=20, saved=20),\n",
       " 'create_time': 1583419348.956394,\n",
       " 'name': 'python3.7',\n",
       " 'num_ctx_switches': pctxsw(voluntary=140728898432325, involuntary=0),\n",
       " 'memory_percent': 1.3808250427246094,\n",
       " 'cpu_percent': 96.8,\n",
       " 'nice': 0,\n",
       " 'num_fds': 59,\n",
       " 'environ': {'TERM_SESSION_ID': 'w0t0p0:5671DB93-1B6C-4613-A0D6-15E96D63489A',\n",
       "  'SSH_AUTH_SOCK': '/private/tmp/com.apple.launchd.u3k3u0hWCU/Listeners',\n",
       "  'LC_TERMINAL_VERSION': '3.3.7',\n",
       "  'COLORFGBG': '12;8',\n",
       "  'ITERM_PROFILE': 'Default',\n",
       "  'XPC_FLAGS': '0x0',\n",
       "  'LANG': 'en_US.UTF-8',\n",
       "  'PWD': '/Users/chau/Downloads/show_cpu_mem_info-master',\n",
       "  'SHELL': '/bin/zsh',\n",
       "  'TERM_PROGRAM_VERSION': '3.3.7',\n",
       "  'TERM_PROGRAM': 'iTerm.app',\n",
       "  'PATH': '/Users/chau/.rvm/gems/ruby-2.6.3/bin:/Users/chau/.rvm/gems/ruby-2.6.3@global/bin:/Users/chau/.rvm/rubies/ruby-2.6.3/bin:/Users/chau/opt/anaconda3/bin:/Users/chau/opt/anaconda3/condabin:/Users/chau/opt/anaconda3/bin:/usr/local/bin:/usr/local/bin:/usr/bin:/bin:/usr/sbin:/sbin:/Users/chau/.rvm/bin',\n",
       "  'LC_TERMINAL': 'iTerm2',\n",
       "  'COLORTERM': 'truecolor',\n",
       "  'TERM': 'xterm-256color',\n",
       "  'HOME': '/Users/chau',\n",
       "  'TMPDIR': '/var/folders/wl/208g62qj1vl0dz13qbcskxf00000gn/T/',\n",
       "  'USER': 'chau',\n",
       "  'XPC_SERVICE_NAME': '0',\n",
       "  'LOGNAME': 'chau',\n",
       "  'ITERM_SESSION_ID': 'w0t0p0:5671DB93-1B6C-4613-A0D6-15E96D63489A',\n",
       "  '__CF_USER_TEXT_ENCODING': '0x0:0:0',\n",
       "  'SHLVL': '1',\n",
       "  'OLDPWD': '/Users/chau/minhchau/C',\n",
       "  'JAVA_HOME': '/Library/Java/JavaVirtualMachines/adoptopenjdk-8.jdk/Contents/Home',\n",
       "  'MAVEN_OPTS': '-Xmx512m -XX:MaxPermSize=256m',\n",
       "  'BIN_HOME': '/usr/local/bin',\n",
       "  'ZSH': '/Users/chau/.oh-my-zsh',\n",
       "  'PAGER': 'less',\n",
       "  'LESS': '-R',\n",
       "  'LSCOLORS': 'Gxfxcxdxbxegedabagacad',\n",
       "  'CONDA_EXE': '/Users/chau/opt/anaconda3/bin/conda',\n",
       "  '_CE_M': '',\n",
       "  '_CE_CONDA': '',\n",
       "  'CONDA_PYTHON_EXE': '/Users/chau/opt/anaconda3/bin/python',\n",
       "  'CONDA_SHLVL': '1',\n",
       "  'CONDA_PREFIX': '/Users/chau/opt/anaconda3',\n",
       "  'CONDA_DEFAULT_ENV': 'base',\n",
       "  'CONDA_PROMPT_MODIFIER': '(base) ',\n",
       "  'rvm_prefix': '/Users/chau',\n",
       "  'rvm_path': '/Users/chau/.rvm',\n",
       "  'rvm_bin_path': '/Users/chau/.rvm/bin',\n",
       "  'rvm_version': '1.29.9 (latest)',\n",
       "  'GEM_HOME': '/Users/chau/.rvm/gems/ruby-2.6.3',\n",
       "  'GEM_PATH': '/Users/chau/.rvm/gems/ruby-2.6.3:/Users/chau/.rvm/gems/ruby-2.6.3@global',\n",
       "  'MY_RUBY_HOME': '/Users/chau/.rvm/rubies/ruby-2.6.3',\n",
       "  'IRBRC': '/Users/chau/.rvm/rubies/ruby-2.6.3/.irbrc',\n",
       "  'RUBY_VERSION': 'ruby-2.6.3',\n",
       "  'rvm_alias_expanded': '',\n",
       "  'rvm_bin_flag': '',\n",
       "  'rvm_docs_type': '',\n",
       "  'rvm_gemstone_package_file': '',\n",
       "  'rvm_gemstone_url': '',\n",
       "  'rvm_niceness': '',\n",
       "  'rvm_nightly_flag': '',\n",
       "  'rvm_only_path_flag': '',\n",
       "  'rvm_pretty_print_flag': '',\n",
       "  'rvm_proxy': '',\n",
       "  'rvm_quiet_flag': '',\n",
       "  'rvm_ruby_bits': '',\n",
       "  'rvm_ruby_file': '',\n",
       "  'rvm_ruby_make': '',\n",
       "  'rvm_ruby_make_install': '',\n",
       "  'rvm_ruby_mode': '',\n",
       "  'rvm_script_name': '',\n",
       "  'rvm_sdk': '',\n",
       "  'rvm_silent_flag': '',\n",
       "  'rvm_use_flag': '',\n",
       "  'rvm_hook': '',\n",
       "  '_': '/Users/chau/opt/anaconda3/bin/jupyter',\n",
       "  'JPY_PARENT_PID': '24070'},\n",
       " 'cmdline': ['/Users/chau/opt/anaconda3/envs/py37_env/bin/python',\n",
       "  '-m',\n",
       "  'ipykernel_launcher',\n",
       "  '-f',\n",
       "  '/Users/chau/Library/Jupyter/runtime/kernel-5bb1c946-a8c5-4086-92f7-c678ac347d22.json'],\n",
       " 'memory_full_info': pfullmem(rss=118611968, vms=4730793984, pfaults=39131, pageins=0, uss=100851712),\n",
       " 'status': 'running',\n",
       " 'username': 'chau',\n",
       " 'uids': puids(real=501, effective=501, saved=501),\n",
       " 'cwd': '/Users/chau/Downloads/show_cpu_mem_info-master',\n",
       " 'pid': 24554,\n",
       " 'connections': [pconn(fd=16, family=<AddressFamily.AF_INET: 2>, type=<SocketKind.SOCK_STREAM: 1>, laddr=addr(ip='127.0.0.1', port=60333), raddr=(), status='LISTEN'),\n",
       "  pconn(fd=19, family=<AddressFamily.AF_INET: 2>, type=<SocketKind.SOCK_STREAM: 1>, laddr=addr(ip='127.0.0.1', port=60335), raddr=(), status='LISTEN'),\n",
       "  pconn(fd=22, family=<AddressFamily.AF_INET: 2>, type=<SocketKind.SOCK_STREAM: 1>, laddr=addr(ip='127.0.0.1', port=60336), raddr=(), status='LISTEN'),\n",
       "  pconn(fd=25, family=<AddressFamily.AF_INET: 2>, type=<SocketKind.SOCK_STREAM: 1>, laddr=addr(ip='127.0.0.1', port=60334), raddr=(), status='LISTEN'),\n",
       "  pconn(fd=31, family=<AddressFamily.AF_INET: 2>, type=<SocketKind.SOCK_STREAM: 1>, laddr=addr(ip='127.0.0.1', port=60694), raddr=(), status='LISTEN'),\n",
       "  pconn(fd=44, family=<AddressFamily.AF_INET: 2>, type=<SocketKind.SOCK_STREAM: 1>, laddr=addr(ip='127.0.0.1', port=60337), raddr=(), status='LISTEN'),\n",
       "  pconn(fd=50, family=<AddressFamily.AF_INET: 2>, type=<SocketKind.SOCK_STREAM: 1>, laddr=addr(ip='127.0.0.1', port=60334), raddr=addr(ip='127.0.0.1', port=60695), status='ESTABLISHED'),\n",
       "  pconn(fd=53, family=<AddressFamily.AF_INET: 2>, type=<SocketKind.SOCK_STREAM: 1>, laddr=addr(ip='127.0.0.1', port=60336), raddr=addr(ip='127.0.0.1', port=60699), status='ESTABLISHED'),\n",
       "  pconn(fd=54, family=<AddressFamily.AF_INET: 2>, type=<SocketKind.SOCK_STREAM: 1>, laddr=addr(ip='127.0.0.1', port=60335), raddr=addr(ip='127.0.0.1', port=60697), status='ESTABLISHED'),\n",
       "  pconn(fd=55, family=<AddressFamily.AF_INET: 2>, type=<SocketKind.SOCK_STREAM: 1>, laddr=addr(ip='127.0.0.1', port=60333), raddr=addr(ip='127.0.0.1', port=60700), status='ESTABLISHED'),\n",
       "  pconn(fd=56, family=<AddressFamily.AF_INET: 2>, type=<SocketKind.SOCK_STREAM: 1>, laddr=addr(ip='127.0.0.1', port=60334), raddr=addr(ip='127.0.0.1', port=60701), status='ESTABLISHED')],\n",
       " 'memory_info': pmem(rss=118611968, vms=4730793984, pfaults=39131, pageins=0),\n",
       " 'cpu_times': pcputimes(user=1.571433088, system=0.395050912, children_user=0.0, children_system=0.0),\n",
       " 'threads': [pthread(id=1, user_time=1.283671, system_time=0.298147),\n",
       "  pthread(id=2, user_time=5e-06, system_time=4e-05),\n",
       "  pthread(id=3, user_time=0.00303, system_time=0.007837),\n",
       "  pthread(id=4, user_time=0.092743, system_time=0.039027),\n",
       "  pthread(id=5, user_time=0.000212, system_time=0.00019),\n",
       "  pthread(id=6, user_time=4e-06, system_time=1.1e-05),\n",
       "  pthread(id=7, user_time=1e-05, system_time=3.3e-05),\n",
       "  pthread(id=8, user_time=0.006152, system_time=0.024991),\n",
       "  pthread(id=9, user_time=8e-06, system_time=3.4e-05),\n",
       "  pthread(id=10, user_time=0.000106, system_time=5e-05),\n",
       "  pthread(id=11, user_time=0.068584, system_time=0.011613),\n",
       "  pthread(id=12, user_time=0.118006, system_time=0.015798)],\n",
       " 'exe': '/Users/chau/opt/anaconda3/envs/py37_env/bin/python3.7'}"
      ]
     },
     "execution_count": 22,
     "metadata": {},
     "output_type": "execute_result"
    }
   ],
   "source": [
    "py.as_dict()"
   ]
  },
  {
   "cell_type": "code",
   "execution_count": 23,
   "metadata": {},
   "outputs": [],
   "source": [
    "## For linux\n",
    "# import energyusage\n",
    "\n",
    "# user function to be evaluated\n",
    "def recursive_fib(n):\n",
    "    if (n <= 2): return 1\n",
    "    else: return recursive_fib(n-1) + recursive_fib(n-2)\n",
    "\n",
    "# energyusage.evaluate(recursive_fib)"
   ]
  },
  {
   "cell_type": "markdown",
   "metadata": {},
   "source": [
    "# Htop \n",
    "a tool for monitoring process, cpu, ram, etc., on Mac and Linux"
   ]
  },
  {
   "cell_type": "markdown",
   "metadata": {},
   "source": [
    "![HTOP Interface](HTOP.png)"
   ]
  },
  {
   "cell_type": "markdown",
   "metadata": {},
   "source": [
    "**Read more: Create monitoring tool using python**\n",
    "https://medium.com/the-andela-way/machine-monitoring-tool-using-python-from-scratch-8d10411782fd"
   ]
  },
  {
   "cell_type": "markdown",
   "metadata": {},
   "source": [
    "# Profiling"
   ]
  },
  {
   "cell_type": "code",
   "execution_count": 24,
   "metadata": {},
   "outputs": [],
   "source": [
    "def Fibonacci(n): \n",
    "    if n<0: \n",
    "        print(\"Incorrect input\") \n",
    "    # First Fibonacci number is 0 \n",
    "    elif n==1: \n",
    "        return 0\n",
    "    # Second Fibonacci number is 1 \n",
    "    elif n==2: \n",
    "        return 1\n",
    "    else: \n",
    "        return Fibonacci(n-1)+Fibonacci(n-2) "
   ]
  },
  {
   "cell_type": "code",
   "execution_count": 25,
   "metadata": {},
   "outputs": [
    {
     "name": "stdout",
     "output_type": "stream",
     "text": [
      "         18454932 function calls (4 primitive calls) in 5.968 seconds\n",
      "\n",
      "   Ordered by: standard name\n",
      "\n",
      "   ncalls  tottime  percall  cumtime  percall filename:lineno(function)\n",
      "18454929/1    5.967    0.000    5.967    5.967 <ipython-input-24-3aa5b61ea02d>:1(Fibonacci)\n",
      "        1    0.000    0.000    5.967    5.967 <string>:1(<module>)\n",
      "        1    0.000    0.000    5.968    5.968 {built-in method builtins.exec}\n",
      "        1    0.000    0.000    0.000    0.000 {method 'disable' of '_lsprof.Profiler' objects}\n",
      "\n",
      "\n"
     ]
    }
   ],
   "source": [
    "import cProfile\n",
    "cProfile.run('Fibonacci(35)') "
   ]
  },
  {
   "cell_type": "code",
   "execution_count": null,
   "metadata": {},
   "outputs": [],
   "source": []
  }
 ],
 "metadata": {
  "kernelspec": {
   "display_name": "py37_env",
   "language": "python",
   "name": "py37_env"
  },
  "language_info": {
   "codemirror_mode": {
    "name": "ipython",
    "version": 3
   },
   "file_extension": ".py",
   "mimetype": "text/x-python",
   "name": "python",
   "nbconvert_exporter": "python",
   "pygments_lexer": "ipython3",
   "version": "3.7.6"
  },
  "toc": {
   "base_numbering": 1,
   "nav_menu": {},
   "number_sections": true,
   "sideBar": true,
   "skip_h1_title": false,
   "title_cell": "Table of Contents",
   "title_sidebar": "Contents",
   "toc_cell": false,
   "toc_position": {},
   "toc_section_display": true,
   "toc_window_display": false
  }
 },
 "nbformat": 4,
 "nbformat_minor": 2
}
